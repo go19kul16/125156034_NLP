{
  "nbformat": 4,
  "nbformat_minor": 0,
  "metadata": {
    "colab": {
      "provenance": [],
      "authorship_tag": "ABX9TyPLyGQproPsAGxvVew/o+Hq",
      "include_colab_link": true
    },
    "kernelspec": {
      "name": "python3",
      "display_name": "Python 3"
    },
    "language_info": {
      "name": "python"
    }
  },
  "cells": [
    {
      "cell_type": "markdown",
      "metadata": {
        "id": "view-in-github",
        "colab_type": "text"
      },
      "source": [
        "<a href=\"https://colab.research.google.com/github/go19kul16/125156034_NLP/blob/main/Hypo_test.ipynb\" target=\"_parent\"><img src=\"https://colab.research.google.com/assets/colab-badge.svg\" alt=\"Open In Colab\"/></a>"
      ]
    },
    {
      "cell_type": "markdown",
      "source": [
        "#Hypothetical Testing\n"
      ],
      "metadata": {
        "id": "fwfwjvOhY4Gw"
      }
    },
    {
      "cell_type": "markdown",
      "source": [
        "**t-test**"
      ],
      "metadata": {
        "id": "ps-8voiGY2Z7"
      }
    },
    {
      "cell_type": "code",
      "execution_count": 11,
      "metadata": {
        "colab": {
          "base_uri": "https://localhost:8080/"
        },
        "id": "F5uN60_kWVcJ",
        "outputId": "36eaf4a8-cf91-4628-e055-365c7f1a7e40"
      },
      "outputs": [
        {
          "output_type": "stream",
          "name": "stdout",
          "text": [
            "T-Test Results:\n",
            "T-statistic: -4.1311732760688\n",
            "P-value: 7.604048369144463e-05\n",
            "Reject the null hypothesis: There is a significant difference between the two groups.\n"
          ]
        }
      ],
      "source": [
        "import numpy as np\n",
        "from scipy import stats\n",
        "\n",
        "# Generate random data for two groups\n",
        "np.random.seed(0)  # For reproducibility\n",
        "group1_data = np.random.normal(loc=10, scale=2, size=50)  # Group 1 with mean 10 and standard deviation 2\n",
        "group2_data = np.random.normal(loc=12, scale=2, size=50)  # Group 2 with mean 12 and standard deviation 2\n",
        "\n",
        "# Perform a t-test\n",
        "t_statistic, p_value = stats.ttest_ind(group1_data, group2_data)\n",
        "\n",
        "# Print the t-test results\n",
        "print(\"T-Test Results:\")\n",
        "print(\"T-statistic:\", t_statistic)\n",
        "print(\"P-value:\", p_value)\n",
        "\n",
        "# Interpret the results\n",
        "alpha = 0.05  # Significance level\n",
        "if p_value < alpha:\n",
        "    print(\"Reject the null hypothesis: There is a significant difference between the two groups.\")\n",
        "else:\n",
        "    print(\"Fail to reject the null hypothesis: There is no significant difference between the two groups.\")\n"
      ]
    },
    {
      "cell_type": "markdown",
      "source": [
        "**Chi Squared Test**"
      ],
      "metadata": {
        "id": "p9soJR9FZPhE"
      }
    },
    {
      "cell_type": "code",
      "source": [
        "import numpy as np\n",
        "from scipy import stats\n",
        "\n",
        "# Create a contingency table (observed data)\n",
        "observed_data = np.array([[30, 20], [15, 25]])\n",
        "\n",
        "# Perform the chi-squared test\n",
        "chi2_statistic, p_value, _, _ = stats.chi2_contingency(observed_data)\n",
        "\n",
        "# Print the chi-squared test results\n",
        "print(\"Chi-Squared Test Results:\")\n",
        "print(\"Chi-squared statistic:\", chi2_statistic)\n",
        "print(\"P-value:\", p_value)\n",
        "\n",
        "# Set the significance level (alpha)\n",
        "alpha = 0.03\n",
        "\n",
        "# Interpret the results\n",
        "if p_value < alpha:\n",
        "    print(\"Reject the null hypothesis: There is a significant association between the variables.\")\n",
        "else:\n",
        "    print(\"Fail to reject the null hypothesis: There is no significant association between the variables.\")\n"
      ],
      "metadata": {
        "colab": {
          "base_uri": "https://localhost:8080/"
        },
        "id": "x4ez7IjZXgWu",
        "outputId": "66ea0762-e064-4007-e534-57d122bbdd3b"
      },
      "execution_count": 10,
      "outputs": [
        {
          "output_type": "stream",
          "name": "stdout",
          "text": [
            "Chi-Squared Test Results:\n",
            "Chi-squared statistic: 3.6450000000000005\n",
            "P-value: 0.056237803877275776\n",
            "Fail to reject the null hypothesis: There is no significant association between the variables.\n"
          ]
        }
      ]
    }
  ]
}