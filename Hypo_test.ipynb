{
  "nbformat": 4,
  "nbformat_minor": 0,
  "metadata": {
    "colab": {
      "provenance": [],
      "authorship_tag": "ABX9TyPLvQRg3QiXtiqoB2k2Exkf",
      "include_colab_link": true
    },
    "kernelspec": {
      "name": "python3",
      "display_name": "Python 3"
    },
    "language_info": {
      "name": "python"
    }
  },
  "cells": [
    {
      "cell_type": "markdown",
      "metadata": {
        "id": "view-in-github",
        "colab_type": "text"
      },
      "source": [
        "<a href=\"https://colab.research.google.com/github/go19kul16/NLP/blob/main/Hypo_test.ipynb\" target=\"_parent\"><img src=\"https://colab.research.google.com/assets/colab-badge.svg\" alt=\"Open In Colab\"/></a>"
      ]
    },
    {
      "cell_type": "code",
      "execution_count": 5,
      "metadata": {
        "colab": {
          "base_uri": "https://localhost:8080/"
        },
        "id": "F5uN60_kWVcJ",
        "outputId": "176573dc-e51a-48ff-f22d-7ea7c52d587f"
      },
      "outputs": [
        {
          "output_type": "stream",
          "name": "stdout",
          "text": [
            "T-Test Results:\n",
            "T-statistic: -4.1311732760688\n",
            "P-value: 7.604048369144463e-05\n",
            "Reject the null hypothesis: There is a significant difference between the two groups.\n"
          ]
        }
      ],
      "source": [
        "import numpy as np\n",
        "from scipy import stats\n",
        "\n",
        "# Generate random data for two groups\n",
        "np.random.seed(0)  # For reproducibility\n",
        "group1_data = np.random.normal(loc=10, scale=2, size=50)  # Group 1 with mean 10 and standard deviation 2\n",
        "group2_data = np.random.normal(loc=12, scale=2, size=50)  # Group 2 with mean 12 and standard deviation 2\n",
        "\n",
        "# Perform a t-test\n",
        "t_statistic, p_value = stats.ttest_ind(group1_data, group2_data)\n",
        "\n",
        "# Print the t-test results\n",
        "print(\"T-Test Results:\")\n",
        "print(\"T-statistic:\", t_statistic)\n",
        "print(\"P-value:\", p_value)\n",
        "\n",
        "# Interpret the results\n",
        "alpha = 0.05  # Significance level\n",
        "if p_value < alpha:\n",
        "    print(\"Reject the null hypothesis: There is a significant difference between the two groups.\")\n",
        "else:\n",
        "    print(\"Fail to reject the null hypothesis: There is no significant difference between the two groups.\")\n"
      ]
    },
    {
      "cell_type": "code",
      "source": [],
      "metadata": {
        "id": "x4ez7IjZXgWu"
      },
      "execution_count": null,
      "outputs": []
    }
  ]
}