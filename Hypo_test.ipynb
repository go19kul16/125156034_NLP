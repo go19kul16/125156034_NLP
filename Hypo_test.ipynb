{
  "nbformat": 4,
  "nbformat_minor": 0,
  "metadata": {
    "colab": {
      "provenance": [],
      "authorship_tag": "ABX9TyPENbiVbPzCzSeFrXYNKUXk",
      "include_colab_link": true
    },
    "kernelspec": {
      "name": "python3",
      "display_name": "Python 3"
    },
    "language_info": {
      "name": "python"
    }
  },
  "cells": [
    {
      "cell_type": "markdown",
      "metadata": {
        "id": "view-in-github",
        "colab_type": "text"
      },
      "source": [
        "<a href=\"https://colab.research.google.com/github/go19kul16/NLP/blob/main/Hypo_test.ipynb\" target=\"_parent\"><img src=\"https://colab.research.google.com/assets/colab-badge.svg\" alt=\"Open In Colab\"/></a>"
      ]
    },
    {
      "cell_type": "markdown",
      "source": [
        "#Hypothetical Testing\n"
      ],
      "metadata": {
        "id": "fwfwjvOhY4Gw"
      }
    },
    {
      "cell_type": "markdown",
      "source": [
        "**t-test**"
      ],
      "metadata": {
        "id": "ps-8voiGY2Z7"
      }
    },
    {
      "cell_type": "code",
      "execution_count": 6,
      "metadata": {
        "colab": {
          "base_uri": "https://localhost:8080/"
        },
        "id": "F5uN60_kWVcJ",
        "outputId": "ad0b54af-36aa-4c51-f772-bc331fad1c83"
      },
      "outputs": [
        {
          "output_type": "stream",
          "name": "stdout",
          "text": [
            "T-Test Results:\n",
            "T-statistic: -4.1311732760688\n",
            "P-value: 7.604048369144463e-05\n"
          ]
        },
        {
          "output_type": "execute_result",
          "data": {
            "text/plain": [
              "array([13.52810469, 10.80031442, 11.95747597, 14.4817864 , 13.73511598,\n",
              "        8.04544424, 11.90017684,  9.69728558,  9.7935623 , 10.821197  ,\n",
              "       10.28808714, 12.90854701, 11.52207545, 10.24335003, 10.88772647,\n",
              "       10.66734865, 12.98815815,  9.58968347, 10.6261354 ,  8.29180852,\n",
              "        4.89402037, 11.30723719, 11.7288724 ,  8.51566996, 14.53950925,\n",
              "        7.09126865, 10.09151703,  9.6256323 , 13.06555843, 12.93871754,\n",
              "       10.30989485, 10.75632504,  8.2244285 ,  6.03840706,  9.3041757 ,\n",
              "       10.31269794, 12.46058136, 12.4047597 ,  9.22534637,  9.3953945 ,\n",
              "        7.90289407,  7.15996413,  6.58745962, 13.90155079,  8.98069564,\n",
              "        9.1238514 ,  7.49440928, 11.55498071,  6.7722043 ,  9.57451944])"
            ]
          },
          "metadata": {},
          "execution_count": 6
        }
      ],
      "source": [
        "import numpy as np\n",
        "from scipy import stats\n",
        "\n",
        "# Generate random data for two groups\n",
        "np.random.seed(0)  # For reproducibility\n",
        "group1_data = np.random.normal(loc=10, scale=2, size=50)  # Group 1 with mean 10 and standard deviation 2\n",
        "group2_data = np.random.normal(loc=12, scale=2, size=50)  # Group 2 with mean 12 and standard deviation 2\n",
        "\n",
        "# Perform a t-test\n",
        "t_statistic, p_value = stats.ttest_ind(group1_data, group2_data)\n",
        "\n",
        "# Print the t-test results\n",
        "print(\"T-Test Results:\")\n",
        "print(\"T-statistic:\", t_statistic)\n",
        "print(\"P-value:\", p_value)\n",
        "\n",
        "# Interpret the results\n",
        "alpha = 0.05  # Significance level\n",
        "#if p_value < alpha:\n",
        "#    print(\"Reject the null hypothesis: There is a significant difference between the two groups.\")\n",
        "#else:\n",
        "#    print(\"Fail to reject the null hypothesis: There is no significant difference between the two groups.\")\n",
        "group1_data"
      ]
    },
    {
      "cell_type": "markdown",
      "source": [
        "**Chi Squared Test**"
      ],
      "metadata": {
        "id": "p9soJR9FZPhE"
      }
    },
    {
      "cell_type": "code",
      "source": [
        "import numpy as np\n",
        "from scipy import stats\n",
        "\n",
        "# Create a contingency table (observed data)\n",
        "observed_data = np.array([[30, 20], [15, 25]])\n",
        "\n",
        "# Perform the chi-squared test\n",
        "chi2_statistic, p_value, _, _ = stats.chi2_contingency(observed_data)\n",
        "\n",
        "# Print the chi-squared test results\n",
        "print(\"Chi-Squared Test Results:\")\n",
        "print(\"Chi-squared statistic:\", chi2_statistic)\n",
        "print(\"P-value:\", p_value)\n",
        "\n",
        "# Set the significance level (alpha)\n",
        "alpha = 0.03\n",
        "\n",
        "# Interpret the results\n",
        "if p_value < alpha:\n",
        "    print(\"Reject the null hypothesis: There is a significant association between the variables.\")\n",
        "else:\n",
        "    print(\"Fail to reject the null hypothesis: There is no significant association between the variables.\")\n"
      ],
      "metadata": {
        "colab": {
          "base_uri": "https://localhost:8080/"
        },
        "id": "x4ez7IjZXgWu",
        "outputId": "66ea0762-e064-4007-e534-57d122bbdd3b"
      },
      "execution_count": 10,
      "outputs": [
        {
          "output_type": "stream",
          "name": "stdout",
          "text": [
            "Chi-Squared Test Results:\n",
            "Chi-squared statistic: 3.6450000000000005\n",
            "P-value: 0.056237803877275776\n",
            "Fail to reject the null hypothesis: There is no significant association between the variables.\n"
          ]
        }
      ]
    }
  ]
}